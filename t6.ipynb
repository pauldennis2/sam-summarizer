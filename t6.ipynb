{
 "cells": [
  {
   "cell_type": "code",
   "execution_count": 1,
   "id": "7dd02260",
   "metadata": {},
   "outputs": [],
   "source": [
    "import pandas as pd\n",
    "\n",
    "train_df = pd.read_csv('samsum_csv_data/train.csv')\n",
    "validate_df = pd.read_csv('samsum_csv_data/validation.csv')"
   ]
  },
  {
   "cell_type": "code",
   "execution_count": 4,
   "id": "a04aeca7",
   "metadata": {},
   "outputs": [
    {
     "name": "stdout",
     "output_type": "stream",
     "text": [
      "torch.Size([200, 505, 768])\n"
     ]
    }
   ],
   "source": [
    "from transformers import BertTokenizer, BertModel\n",
    "import torch\n",
    "\n",
    "# Load tokenizer and encoder\n",
    "tokenizer = BertTokenizer.from_pretrained(\"bert-base-uncased\")\n",
    "encoder = BertModel.from_pretrained(\"bert-base-uncased\")\n",
    "\n",
    "# Example: tokenize a batch of dialogues\n",
    "sample_dialogues = train_df[\"dialogue\"][:200].tolist()\n",
    "tokenized = tokenizer(\n",
    "    sample_dialogues,\n",
    "    padding=True,\n",
    "    truncation=True,\n",
    "    max_length=512,\n",
    "    return_tensors=\"pt\"\n",
    ")\n",
    "\n",
    "# Pass through encoder\n",
    "with torch.no_grad():\n",
    "    encoder_outputs = encoder(\n",
    "        input_ids=tokenized[\"input_ids\"],\n",
    "        attention_mask=tokenized[\"attention_mask\"]\n",
    "    )\n",
    "\n",
    "# These are your encoded representations\n",
    "print(encoder_outputs.last_hidden_state.shape)  # (batch_size, seq_len, hidden_dim)\n"
   ]
  },
  {
   "cell_type": "code",
   "execution_count": 5,
   "id": "a38a8c21",
   "metadata": {},
   "outputs": [],
   "source": [
    "from transformers import BertTokenizer, BertModel, GPT2Tokenizer, GPT2LMHeadModel, EncoderDecoderModel\n",
    "\n",
    "# Load encoder and decoder\n",
    "encoder = BertModel.from_pretrained(\"bert-base-uncased\")\n",
    "decoder = GPT2LMHeadModel.from_pretrained(\"gpt2\")\n",
    "\n",
    "# GPT2 needs special handling: disable padding, resize for BOS/EOS tokens\n",
    "decoder.config.pad_token_id = decoder.config.eos_token_id\n",
    "\n",
    "# Tie it all together\n",
    "model = EncoderDecoderModel(encoder=encoder, decoder=decoder)\n",
    "model.config.decoder_start_token_id = decoder.config.bos_token_id\n"
   ]
  }
 ],
 "metadata": {
  "kernelspec": {
   "display_name": "pytorch_env",
   "language": "python",
   "name": "python3"
  },
  "language_info": {
   "codemirror_mode": {
    "name": "ipython",
    "version": 3
   },
   "file_extension": ".py",
   "mimetype": "text/x-python",
   "name": "python",
   "nbconvert_exporter": "python",
   "pygments_lexer": "ipython3",
   "version": "3.10.16"
  }
 },
 "nbformat": 4,
 "nbformat_minor": 5
}
