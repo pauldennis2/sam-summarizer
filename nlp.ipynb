{
 "cells": [
  {
   "cell_type": "markdown",
   "id": "337da6f6",
   "metadata": {},
   "source": [
    "# NLP"
   ]
  },
  {
   "cell_type": "code",
   "execution_count": 1,
   "id": "87b677af",
   "metadata": {},
   "outputs": [
    {
     "name": "stdout",
     "output_type": "stream",
     "text": [
      "Loading dataset: knkarthick/samsum...\n"
     ]
    },
    {
     "data": {
      "application/vnd.jupyter.widget-view+json": {
       "model_id": "ff7ae15e80d74b5fb7f0dbafa628616f",
       "version_major": 2,
       "version_minor": 0
      },
      "text/plain": [
       "README.md:   0%|          | 0.00/4.36k [00:00<?, ?B/s]"
      ]
     },
     "metadata": {},
     "output_type": "display_data"
    },
    {
     "data": {
      "application/vnd.jupyter.widget-view+json": {
       "model_id": "3458ef23c56d40e28053e98b963dc2bf",
       "version_major": 2,
       "version_minor": 0
      },
      "text/plain": [
       "train.csv:   0%|          | 0.00/9.26M [00:00<?, ?B/s]"
      ]
     },
     "metadata": {},
     "output_type": "display_data"
    },
    {
     "data": {
      "application/vnd.jupyter.widget-view+json": {
       "model_id": "26e32856926e4ac8b29665680b66059f",
       "version_major": 2,
       "version_minor": 0
      },
      "text/plain": [
       "validation.csv:   0%|          | 0.00/504k [00:00<?, ?B/s]"
      ]
     },
     "metadata": {},
     "output_type": "display_data"
    },
    {
     "data": {
      "application/vnd.jupyter.widget-view+json": {
       "model_id": "acebc530043d4d47adae2cd12b03fe99",
       "version_major": 2,
       "version_minor": 0
      },
      "text/plain": [
       "test.csv:   0%|          | 0.00/522k [00:00<?, ?B/s]"
      ]
     },
     "metadata": {},
     "output_type": "display_data"
    },
    {
     "data": {
      "application/vnd.jupyter.widget-view+json": {
       "model_id": "fe9905038dca42a4a5cf2519a2920e0a",
       "version_major": 2,
       "version_minor": 0
      },
      "text/plain": [
       "Generating train split:   0%|          | 0/14732 [00:00<?, ? examples/s]"
      ]
     },
     "metadata": {},
     "output_type": "display_data"
    },
    {
     "data": {
      "application/vnd.jupyter.widget-view+json": {
       "model_id": "b4aed5640ebd4463b1901b7916828666",
       "version_major": 2,
       "version_minor": 0
      },
      "text/plain": [
       "Generating validation split:   0%|          | 0/818 [00:00<?, ? examples/s]"
      ]
     },
     "metadata": {},
     "output_type": "display_data"
    },
    {
     "data": {
      "application/vnd.jupyter.widget-view+json": {
       "model_id": "e874add73d6440b0b6f91f782b4ffe5c",
       "version_major": 2,
       "version_minor": 0
      },
      "text/plain": [
       "Generating test split:   0%|          | 0/819 [00:00<?, ? examples/s]"
      ]
     },
     "metadata": {},
     "output_type": "display_data"
    },
    {
     "name": "stdout",
     "output_type": "stream",
     "text": [
      "Dataset loaded successfully.\n",
      "Processing 'train' split...\n",
      "'train' split saved to: samsum_csv_data/knkarthick_samsum_train.csv\n",
      "Processing 'validation' split...\n",
      "'validation' split saved to: samsum_csv_data/knkarthick_samsum_validation.csv\n",
      "Processing 'test' split...\n",
      "'test' split saved to: samsum_csv_data/knkarthick_samsum_test.csv\n",
      "\n",
      "All SAMSum splits saved successfully as CSV files.\n",
      "You can find them in the 'samsum_csv_data' directory.\n"
     ]
    }
   ],
   "source": [
    "from datasets import load_dataset\n",
    "import pandas as pd\n",
    "import os\n",
    "\n",
    "# Define the dataset name and the directory to save CSVs\n",
    "dataset_name = \"knkarthick/samsum\"\n",
    "output_dir = \"samsum_csv_data\"\n",
    "\n",
    "# Create the output directory if it doesn't exist\n",
    "os.makedirs(output_dir, exist_ok=True)\n",
    "\n",
    "print(f\"Loading dataset: {dataset_name}...\")\n",
    "# Load the dataset\n",
    "# This will download the dataset if it's not already cached\n",
    "ds = load_dataset(dataset_name)\n",
    "print(\"Dataset loaded successfully.\")\n",
    "\n",
    "# Iterate through each split (train, test, validation) and save as CSV\n",
    "for split_name, dataset_split in ds.items():\n",
    "    print(f\"Processing '{split_name}' split...\")\n",
    "    # Convert the dataset split to a pandas DataFrame\n",
    "    df = pd.DataFrame(dataset_split)\n",
    "\n",
    "    # Define the output file path\n",
    "    output_file_path = os.path.join(output_dir, f\"{dataset_name.replace('/', '_')}_{split_name}.csv\")\n",
    "\n",
    "    # Save the DataFrame to a CSV file\n",
    "    df.to_csv(output_file_path, index=False)\n",
    "    print(f\"'{split_name}' split saved to: {output_file_path}\")\n",
    "\n",
    "print(\"\\nAll SAMSum splits saved successfully as CSV files.\")\n",
    "print(f\"You can find them in the '{output_dir}' directory.\")"
   ]
  }
 ],
 "metadata": {
  "kernelspec": {
   "display_name": "basic_env",
   "language": "python",
   "name": "python3"
  },
  "language_info": {
   "codemirror_mode": {
    "name": "ipython",
    "version": 3
   },
   "file_extension": ".py",
   "mimetype": "text/x-python",
   "name": "python",
   "nbconvert_exporter": "python",
   "pygments_lexer": "ipython3",
   "version": "3.12.9"
  }
 },
 "nbformat": 4,
 "nbformat_minor": 5
}
